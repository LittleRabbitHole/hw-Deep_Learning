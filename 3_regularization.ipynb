{
 "cells": [
  {
   "cell_type": "markdown",
   "metadata": {
    "colab_type": "text",
    "id": "kR-4eNdK6lYS"
   },
   "source": [
    "Deep Learning\n",
    "=============\n",
    "\n",
    "Assignment 3\n",
    "------------\n",
    "\n",
    "Previously in `2_fullyconnected.ipynb`, you trained a logistic regression and a neural network model.\n",
    "\n",
    "The goal of this assignment is to explore regularization techniques."
   ]
  },
  {
   "cell_type": "code",
   "execution_count": 1,
   "metadata": {
    "cellView": "both",
    "colab": {
     "autoexec": {
      "startup": false,
      "wait_interval": 0
     }
    },
    "colab_type": "code",
    "collapsed": true,
    "id": "JLpLa8Jt7Vu4"
   },
   "outputs": [],
   "source": [
    "# These are all the modules we'll be using later. Make sure you can import them\n",
    "# before proceeding further.\n",
    "from __future__ import print_function\n",
    "import numpy as np\n",
    "import tensorflow as tf\n",
    "from six.moves import cPickle as pickle"
   ]
  },
  {
   "cell_type": "markdown",
   "metadata": {
    "colab_type": "text",
    "id": "1HrCK6e17WzV"
   },
   "source": [
    "First reload the data we generated in `1_notmnist.ipynb`."
   ]
  },
  {
   "cell_type": "code",
   "execution_count": 2,
   "metadata": {
    "cellView": "both",
    "colab": {
     "autoexec": {
      "startup": false,
      "wait_interval": 0
     },
     "output_extras": [
      {
       "item_id": 1
      }
     ]
    },
    "colab_type": "code",
    "executionInfo": {
     "elapsed": 11777,
     "status": "ok",
     "timestamp": 1449849322348,
     "user": {
      "color": "",
      "displayName": "",
      "isAnonymous": false,
      "isMe": true,
      "permissionId": "",
      "photoUrl": "",
      "sessionId": "0",
      "userId": ""
     },
     "user_tz": 480
    },
    "id": "y3-cj1bpmuxc",
    "outputId": "e03576f1-ebbe-4838-c388-f1777bcc9873"
   },
   "outputs": [
    {
     "name": "stdout",
     "output_type": "stream",
     "text": [
      "Training set (200000, 28, 28) (200000,)\n",
      "Validation set (10000, 28, 28) (10000,)\n",
      "Test set (10000, 28, 28) (10000,)\n"
     ]
    }
   ],
   "source": [
    "pickle_file = 'notMNIST.pickle'\n",
    "\n",
    "with open(pickle_file, 'rb') as f:\n",
    "  save = pickle.load(f)\n",
    "  train_dataset = save['train_dataset']\n",
    "  train_labels = save['train_labels']\n",
    "  valid_dataset = save['valid_dataset']\n",
    "  valid_labels = save['valid_labels']\n",
    "  test_dataset = save['test_dataset']\n",
    "  test_labels = save['test_labels']\n",
    "  del save  # hint to help gc free up memory\n",
    "  print('Training set', train_dataset.shape, train_labels.shape)\n",
    "  print('Validation set', valid_dataset.shape, valid_labels.shape)\n",
    "  print('Test set', test_dataset.shape, test_labels.shape)"
   ]
  },
  {
   "cell_type": "markdown",
   "metadata": {
    "colab_type": "text",
    "id": "L7aHrm6nGDMB"
   },
   "source": [
    "Reformat into a shape that's more adapted to the models we're going to train:\n",
    "- data as a flat matrix,\n",
    "- labels as float 1-hot encodings."
   ]
  },
  {
   "cell_type": "code",
   "execution_count": 3,
   "metadata": {
    "cellView": "both",
    "colab": {
     "autoexec": {
      "startup": false,
      "wait_interval": 0
     },
     "output_extras": [
      {
       "item_id": 1
      }
     ]
    },
    "colab_type": "code",
    "executionInfo": {
     "elapsed": 11728,
     "status": "ok",
     "timestamp": 1449849322356,
     "user": {
      "color": "",
      "displayName": "",
      "isAnonymous": false,
      "isMe": true,
      "permissionId": "",
      "photoUrl": "",
      "sessionId": "0",
      "userId": ""
     },
     "user_tz": 480
    },
    "id": "IRSyYiIIGIzS",
    "outputId": "3f8996ee-3574-4f44-c953-5c8a04636582"
   },
   "outputs": [
    {
     "name": "stdout",
     "output_type": "stream",
     "text": [
      "Training set (200000, 784) (200000, 10)\n",
      "Validation set (10000, 784) (10000, 10)\n",
      "Test set (10000, 784) (10000, 10)\n"
     ]
    }
   ],
   "source": [
    "image_size = 28\n",
    "num_labels = 10\n",
    "\n",
    "def reformat(dataset, labels):\n",
    "  dataset = dataset.reshape((-1, image_size * image_size)).astype(np.float32)\n",
    "  # Map 1 to [0.0, 1.0, 0.0 ...], 2 to [0.0, 0.0, 1.0 ...]\n",
    "  labels = (np.arange(num_labels) == labels[:,None]).astype(np.float32)\n",
    "  return dataset, labels\n",
    "train_dataset, train_labels = reformat(train_dataset, train_labels)\n",
    "valid_dataset, valid_labels = reformat(valid_dataset, valid_labels)\n",
    "test_dataset, test_labels = reformat(test_dataset, test_labels)\n",
    "print('Training set', train_dataset.shape, train_labels.shape)\n",
    "print('Validation set', valid_dataset.shape, valid_labels.shape)\n",
    "print('Test set', test_dataset.shape, test_labels.shape)"
   ]
  },
  {
   "cell_type": "code",
   "execution_count": 4,
   "metadata": {
    "cellView": "both",
    "colab": {
     "autoexec": {
      "startup": false,
      "wait_interval": 0
     }
    },
    "colab_type": "code",
    "collapsed": true,
    "id": "RajPLaL_ZW6w"
   },
   "outputs": [],
   "source": [
    "def accuracy(predictions, labels):\n",
    "  return (100.0 * np.sum(np.argmax(predictions, 1) == np.argmax(labels, 1))\n",
    "          / predictions.shape[0])"
   ]
  },
  {
   "cell_type": "markdown",
   "metadata": {
    "colab_type": "text",
    "id": "sgLbUAQ1CW-1"
   },
   "source": [
    "---\n",
    "Problem 1\n",
    "---------\n",
    "\n",
    "Introduce and tune L2 regularization for both logistic and neural network models. Remember that L2 amounts to adding a penalty on the norm of the weights to the loss. In TensorFlow, you can compute the L2 loss for a tensor `t` using `nn.l2_loss(t)`. The right amount of regularization should improve your validation / test accuracy.\n",
    "\n",
    "---"
   ]
  },
  {
   "cell_type": "code",
   "execution_count": 5,
   "metadata": {},
   "outputs": [
    {
     "name": "stdout",
     "output_type": "stream",
     "text": [
      "Initialized\n",
      "Minibatch loss at step 0: 22.227779\n",
      "Minibatch accuracy: 10.2%\n",
      "Validation accuracy: 16.5%\n",
      "Minibatch loss at step 500: 2.589151\n",
      "Minibatch accuracy: 78.1%\n",
      "Validation accuracy: 76.1%\n",
      "Minibatch loss at step 1000: 1.843712\n",
      "Minibatch accuracy: 77.3%\n",
      "Validation accuracy: 78.3%\n",
      "Minibatch loss at step 1500: 0.929079\n",
      "Minibatch accuracy: 83.6%\n",
      "Validation accuracy: 80.0%\n",
      "Minibatch loss at step 2000: 0.822873\n",
      "Minibatch accuracy: 85.9%\n",
      "Validation accuracy: 80.8%\n",
      "Minibatch loss at step 2500: 0.865466\n",
      "Minibatch accuracy: 80.5%\n",
      "Validation accuracy: 81.0%\n",
      "Minibatch loss at step 3000: 0.779086\n",
      "Minibatch accuracy: 84.4%\n",
      "Validation accuracy: 81.6%\n",
      "Test accuracy: 88.7%\n"
     ]
    }
   ],
   "source": [
    "# logistic models\n",
    "batch_size = 128\n",
    "lamb = 0.001\n",
    "\n",
    "graph = tf.Graph()\n",
    "with graph.as_default():\n",
    "\n",
    "  # Input data. For the training data, we use a placeholder that will be fed\n",
    "  # at run time with a training minibatch.\n",
    "  tf_train_dataset = tf.placeholder(tf.float32,\n",
    "                                    shape=(batch_size, image_size * image_size))\n",
    "  tf_train_labels = tf.placeholder(tf.float32, shape=(batch_size, num_labels))\n",
    "  tf_valid_dataset = tf.constant(valid_dataset)\n",
    "  tf_test_dataset = tf.constant(test_dataset)\n",
    "  \n",
    "  # Variables.\n",
    "  weights = tf.Variable(\n",
    "    tf.truncated_normal([image_size * image_size, num_labels]))\n",
    "  biases = tf.Variable(tf.zeros([num_labels]))\n",
    "  \n",
    "  # Training computation.\n",
    "  logits = tf.matmul(tf_train_dataset, weights) + biases\n",
    "  loss = tf.reduce_mean(\n",
    "    tf.nn.softmax_cross_entropy_with_logits(labels=tf_train_labels, logits=logits)\n",
    "    + lamb * tf.nn.l2_loss(weights))\n",
    "  \n",
    "  # Optimizer.\n",
    "  optimizer = tf.train.GradientDescentOptimizer(0.5).minimize(loss)\n",
    "  \n",
    "  # Predictions for the training, validation, and test data.\n",
    "  train_prediction = tf.nn.softmax(logits)\n",
    "  valid_prediction = tf.nn.softmax(\n",
    "    tf.matmul(tf_valid_dataset, weights) + biases)\n",
    "  test_prediction = tf.nn.softmax(tf.matmul(tf_test_dataset, weights) + biases)\n",
    "    \n",
    "num_steps = 3001\n",
    "\n",
    "with tf.Session(graph=graph) as session:\n",
    "  tf.global_variables_initializer().run()\n",
    "  print(\"Initialized\")\n",
    "  for step in range(num_steps):\n",
    "    # Pick an offset within the training data, which has been randomized.\n",
    "    # Note: we could use better randomization across epochs.\n",
    "    offset = (step * batch_size) % (train_labels.shape[0] - batch_size)\n",
    "    # Generate a minibatch.\n",
    "    batch_data = train_dataset[offset:(offset + batch_size), :]\n",
    "    batch_labels = train_labels[offset:(offset + batch_size), :]\n",
    "    # Prepare a dictionary telling the session where to feed the minibatch.\n",
    "    # The key of the dictionary is the placeholder node of the graph to be fed,\n",
    "    # and the value is the numpy array to feed to it.\n",
    "    feed_dict = {tf_train_dataset : batch_data, tf_train_labels : batch_labels}\n",
    "    _, l, predictions = session.run(\n",
    "      [optimizer, loss, train_prediction], feed_dict=feed_dict)\n",
    "    if (step % 500 == 0):\n",
    "      print(\"Minibatch loss at step %d: %f\" % (step, l))\n",
    "      print(\"Minibatch accuracy: %.1f%%\" % accuracy(predictions, batch_labels))\n",
    "      print(\"Validation accuracy: %.1f%%\" % accuracy(\n",
    "        valid_prediction.eval(), valid_labels))\n",
    "  print(\"Test accuracy: %.1f%%\" % accuracy(test_prediction.eval(), test_labels))"
   ]
  },
  {
   "cell_type": "code",
   "execution_count": 6,
   "metadata": {},
   "outputs": [
    {
     "name": "stdout",
     "output_type": "stream",
     "text": [
      "Inited\n",
      "Minibatch loss at step 0: 670.971069\n",
      "Minibatch accuracy: 13.3%\n",
      "Validation accuracy: 27.0%\n",
      "Minibatch loss at step 500: 197.680481\n",
      "Minibatch accuracy: 80.5%\n",
      "Validation accuracy: 77.7%\n",
      "Minibatch loss at step 1000: 116.034271\n",
      "Minibatch accuracy: 78.1%\n",
      "Validation accuracy: 81.6%\n",
      "Minibatch loss at step 1500: 68.674294\n",
      "Minibatch accuracy: 89.1%\n",
      "Validation accuracy: 82.9%\n",
      "Minibatch loss at step 2000: 41.117863\n",
      "Minibatch accuracy: 91.4%\n",
      "Validation accuracy: 85.0%\n",
      "Minibatch loss at step 2500: 25.125443\n",
      "Minibatch accuracy: 89.1%\n",
      "Validation accuracy: 85.7%\n",
      "Minibatch loss at step 3000: 15.439608\n",
      "Minibatch accuracy: 88.3%\n",
      "Validation accuracy: 86.8%\n",
      "Test accuracy: 93.3%\n"
     ]
    }
   ],
   "source": [
    "# 1 hidden layer\n",
    "# define the graph\n",
    "hidden_nodes = 1024\n",
    "batch_size = 128\n",
    "lamb = 0.001\n",
    "\n",
    "graph = tf.Graph()\n",
    "with graph.as_default():\n",
    "    tf_train_dataset = tf.placeholder(tf.float32, \n",
    "                                     shape = (batch_size, image_size*image_size))\n",
    "    tf_train_labels = tf.placeholder(tf.float32, shape = (batch_size, num_labels))\n",
    "    tf_valid_dataset = tf.constant(valid_dataset)\n",
    "    tf_test_dataset = tf.constant(test_dataset)\n",
    "    \n",
    "    weights1 = tf.Variable(tf.truncated_normal([image_size*image_size, hidden_nodes]))\n",
    "    bias1 = tf.Variable(tf.zeros([hidden_nodes]))\n",
    "    \n",
    "    weights2 = tf.Variable(tf.truncated_normal([hidden_nodes, num_labels]))\n",
    "    bias2 = tf.Variable(tf.zeros([num_labels]))\n",
    "    \n",
    "    def get_output_with_hidden_levels(input_set, hidden_nodes = hidden_nodes):\n",
    "        hidden_output = tf.nn.relu(tf.matmul(input_set, weights1) + bias1)\n",
    "        logits = tf.matmul(hidden_output, weights2) + bias2\n",
    "        \n",
    "        return logits\n",
    "    \n",
    "    logits = get_output_with_hidden_levels(tf_train_dataset)\n",
    "    loss = tf.reduce_mean(\n",
    "      tf.nn.softmax_cross_entropy_with_logits(labels = tf_train_labels, logits = logits)\n",
    "      + lamb * (tf.nn.l2_loss(weights1) + tf.nn.l2_loss(weights2)))\n",
    "    \n",
    "    optimizer = tf.train.GradientDescentOptimizer(0.5).minimize(loss)\n",
    "    \n",
    "    train_prediction = tf.nn.softmax(logits)\n",
    "    valid_prediction = tf.nn.softmax(get_output_with_hidden_levels(tf_valid_dataset))\n",
    "    test_prediction = tf.nn.softmax(get_output_with_hidden_levels(tf_test_dataset))\n",
    "    \n",
    "# now run it\n",
    "num_steps = 3001\n",
    "\n",
    "with tf.Session(graph=graph) as session:\n",
    "    tf.global_variables_initializer().run()\n",
    "    print('Inited')\n",
    "    for step in xrange(num_steps):\n",
    "        offset = (step*batch_size) % (train_labels.shape[0] - batch_size)\n",
    "        batch_data = train_dataset[offset:(offset+batch_size), :]\n",
    "        batch_labels = train_labels[offset:(offset+batch_size), :]\n",
    "        feed_dict = {tf_train_dataset: batch_data, tf_train_labels: batch_labels}\n",
    "        _, l, predictions = session.run(\n",
    "            [optimizer, loss, train_prediction], feed_dict=feed_dict)\n",
    "        if (step % 500 == 0):\n",
    "            print('Minibatch loss at step %d: %f' % (step, l))\n",
    "            print('Minibatch accuracy: %.1f%%' % accuracy(predictions, batch_labels))\n",
    "            print('Validation accuracy: %.1f%%' % accuracy(\n",
    "                valid_prediction.eval(), valid_labels))\n",
    "    print('Test accuracy: %.1f%%' % accuracy(test_prediction.eval(), test_labels))"
   ]
  },
  {
   "cell_type": "markdown",
   "metadata": {
    "colab_type": "text",
    "id": "na8xX2yHZzNF"
   },
   "source": [
    "---\n",
    "Problem 2\n",
    "---------\n",
    "Let's demonstrate an extreme case of overfitting. Restrict your training data to just a few batches. What happens?\n",
    "\n",
    "---"
   ]
  },
  {
   "cell_type": "code",
   "execution_count": 7,
   "metadata": {},
   "outputs": [
    {
     "name": "stdout",
     "output_type": "stream",
     "text": [
      "Inited\n",
      "Minibatch loss at step 0: 708.438721\n",
      "Minibatch accuracy: 10.9%\n",
      "Validation accuracy: 43.2%\n",
      "Minibatch loss at step 500: 189.543365\n",
      "Minibatch accuracy: 98.4%\n",
      "Validation accuracy: 79.7%\n",
      "Minibatch loss at step 1000: 114.846329\n",
      "Minibatch accuracy: 100.0%\n",
      "Validation accuracy: 80.2%\n",
      "Minibatch loss at step 1500: 69.638474\n",
      "Minibatch accuracy: 100.0%\n",
      "Validation accuracy: 80.2%\n",
      "Minibatch loss at step 2000: 42.226852\n",
      "Minibatch accuracy: 100.0%\n",
      "Validation accuracy: 80.5%\n",
      "Minibatch loss at step 2500: 25.616661\n",
      "Minibatch accuracy: 100.0%\n",
      "Validation accuracy: 81.1%\n",
      "Minibatch loss at step 3000: 15.562052\n",
      "Minibatch accuracy: 100.0%\n",
      "Validation accuracy: 81.8%\n",
      "Test accuracy: 89.2%\n"
     ]
    }
   ],
   "source": [
    "# 1 hidden layer\n",
    "# define the graph\n",
    "hidden_nodes = 1024\n",
    "batch_size = 128\n",
    "lamb = 0.001\n",
    "\n",
    "graph = tf.Graph()\n",
    "with graph.as_default():\n",
    "    tf_train_dataset = tf.placeholder(tf.float32, \n",
    "                                     shape = (batch_size, image_size*image_size))\n",
    "    tf_train_labels = tf.placeholder(tf.float32, shape = (batch_size, num_labels))\n",
    "    tf_valid_dataset = tf.constant(valid_dataset)\n",
    "    tf_test_dataset = tf.constant(test_dataset)\n",
    "    \n",
    "    weights1 = tf.Variable(tf.truncated_normal([image_size*image_size, hidden_nodes]))\n",
    "    bias1 = tf.Variable(tf.zeros([hidden_nodes]))\n",
    "    \n",
    "    weights2 = tf.Variable(tf.truncated_normal([hidden_nodes, num_labels]))\n",
    "    bias2 = tf.Variable(tf.zeros([num_labels]))\n",
    "    \n",
    "    def get_output_with_hidden_levels(input_set, hidden_nodes = hidden_nodes):\n",
    "        hidden_output = tf.nn.relu(tf.matmul(input_set, weights1) + bias1)\n",
    "        logits = tf.matmul(hidden_output, weights2) + bias2\n",
    "        \n",
    "        return logits\n",
    "    \n",
    "    logits = get_output_with_hidden_levels(tf_train_dataset)\n",
    "    loss = tf.reduce_mean(\n",
    "      tf.nn.softmax_cross_entropy_with_logits(labels = tf_train_labels, logits = logits)\n",
    "      + lamb * (tf.nn.l2_loss(weights1) + tf.nn.l2_loss(weights2)))\n",
    "    \n",
    "    optimizer = tf.train.GradientDescentOptimizer(0.5).minimize(loss)\n",
    "    \n",
    "    train_prediction = tf.nn.softmax(logits)\n",
    "    valid_prediction = tf.nn.softmax(get_output_with_hidden_levels(tf_valid_dataset))\n",
    "    test_prediction = tf.nn.softmax(get_output_with_hidden_levels(tf_test_dataset))\n",
    "    \n",
    "# now run it\n",
    "num_steps = 3001\n",
    "\n",
    "with tf.Session(graph=graph) as session:\n",
    "    tf.global_variables_initializer().run()\n",
    "    print('Inited')\n",
    "    for step in xrange(num_steps):\n",
    "        offset = (step*batch_size) % (50 * batch_size) # only first 50 batches\n",
    "        batch_data = train_dataset[offset:(offset+batch_size), :]\n",
    "        batch_labels = train_labels[offset:(offset+batch_size), :]\n",
    "        feed_dict = {tf_train_dataset: batch_data, tf_train_labels: batch_labels}\n",
    "        _, l, predictions = session.run(\n",
    "            [optimizer, loss, train_prediction], feed_dict=feed_dict)\n",
    "        if (step % 500 == 0):\n",
    "            print('Minibatch loss at step %d: %f' % (step, l))\n",
    "            print('Minibatch accuracy: %.1f%%' % accuracy(predictions, batch_labels))\n",
    "            print('Validation accuracy: %.1f%%' % accuracy(\n",
    "                valid_prediction.eval(), valid_labels))\n",
    "    print('Test accuracy: %.1f%%' % accuracy(test_prediction.eval(), test_labels))"
   ]
  },
  {
   "cell_type": "markdown",
   "metadata": {
    "colab_type": "text",
    "id": "ww3SCBUdlkRc"
   },
   "source": [
    "---\n",
    "Problem 3\n",
    "---------\n",
    "Introduce Dropout on the hidden layer of the neural network. Remember: Dropout should only be introduced during training, not evaluation, otherwise your evaluation results would be stochastic as well. TensorFlow provides `nn.dropout()` for that, but you have to make sure it's only inserted during training.\n",
    "\n",
    "What happens to our extreme overfitting case?\n",
    "\n",
    "---"
   ]
  },
  {
   "cell_type": "code",
   "execution_count": 8,
   "metadata": {},
   "outputs": [
    {
     "name": "stdout",
     "output_type": "stream",
     "text": [
      "Inited\n",
      "Minibatch loss at step 0: 463.399292\n",
      "Minibatch accuracy: 10.9%\n",
      "Validation accuracy: 25.1%\n",
      "Minibatch loss at step 500: 29.307587\n",
      "Minibatch accuracy: 92.2%\n",
      "Validation accuracy: 81.1%\n",
      "Minibatch loss at step 1000: 3.596560\n",
      "Minibatch accuracy: 97.7%\n",
      "Validation accuracy: 82.1%\n",
      "Minibatch loss at step 1500: 9.967327\n",
      "Minibatch accuracy: 97.7%\n",
      "Validation accuracy: 82.2%\n",
      "Minibatch loss at step 2000: 3.629484\n",
      "Minibatch accuracy: 99.2%\n",
      "Validation accuracy: 82.4%\n",
      "Minibatch loss at step 2500: 0.754715\n",
      "Minibatch accuracy: 100.0%\n",
      "Validation accuracy: 82.4%\n",
      "Minibatch loss at step 3000: 1.368217\n",
      "Minibatch accuracy: 99.2%\n",
      "Validation accuracy: 82.5%\n",
      "Test accuracy: 89.4%\n"
     ]
    }
   ],
   "source": [
    "# 1 hidden layer\n",
    "# define the graph\n",
    "hidden_nodes = 1024\n",
    "batch_size = 128\n",
    "lamb = 0.00\n",
    "\n",
    "graph = tf.Graph()\n",
    "with graph.as_default():\n",
    "    tf_train_dataset = tf.placeholder(tf.float32, \n",
    "                                     shape = (batch_size, image_size*image_size))\n",
    "    tf_train_labels = tf.placeholder(tf.float32, shape = (batch_size, num_labels))\n",
    "    tf_valid_dataset = tf.constant(valid_dataset)\n",
    "    tf_test_dataset = tf.constant(test_dataset)\n",
    "    \n",
    "    weights1 = tf.Variable(tf.truncated_normal([image_size*image_size, hidden_nodes]))\n",
    "    bias1 = tf.Variable(tf.zeros([hidden_nodes]))\n",
    "    \n",
    "    weights2 = tf.Variable(tf.truncated_normal([hidden_nodes, num_labels]))\n",
    "    bias2 = tf.Variable(tf.zeros([num_labels]))\n",
    "    \n",
    "    def get_output_with_hidden_levels(input_set, hidden_nodes = hidden_nodes, drop = False):\n",
    "        hidden_output = tf.nn.relu(tf.matmul(input_set, weights1) + bias1)\n",
    "        if drop:\n",
    "            hidden_output = tf.nn.dropout(hidden_output, keep_prob = 0.5)\n",
    "        logits = tf.matmul(hidden_output, weights2) + bias2\n",
    "        \n",
    "        return logits\n",
    "    \n",
    "    logits = get_output_with_hidden_levels(tf_train_dataset, drop = True)\n",
    "    loss = tf.reduce_mean(\n",
    "      tf.nn.softmax_cross_entropy_with_logits(labels = tf_train_labels, logits = logits)\n",
    "      + lamb * (tf.nn.l2_loss(weights1) + tf.nn.l2_loss(weights2)))\n",
    "    \n",
    "    optimizer = tf.train.GradientDescentOptimizer(0.5).minimize(loss)\n",
    "    \n",
    "    train_prediction = tf.nn.softmax(get_output_with_hidden_levels(tf_train_dataset))\n",
    "    valid_prediction = tf.nn.softmax(get_output_with_hidden_levels(tf_valid_dataset))\n",
    "    test_prediction = tf.nn.softmax(get_output_with_hidden_levels(tf_test_dataset))\n",
    "    \n",
    "# now run it\n",
    "num_steps = 3001\n",
    "\n",
    "with tf.Session(graph=graph) as session:\n",
    "    tf.global_variables_initializer().run()\n",
    "    print('Inited')\n",
    "    for step in xrange(num_steps):\n",
    "        offset = (step*batch_size) % (50 * batch_size)#(train_labels.shape[0] - batch_size)\n",
    "        batch_data = train_dataset[offset:(offset+batch_size), :]\n",
    "        batch_labels = train_labels[offset:(offset+batch_size), :]\n",
    "        feed_dict = {tf_train_dataset: batch_data, tf_train_labels: batch_labels}\n",
    "        _, l, predictions = session.run(\n",
    "            [optimizer, loss, train_prediction], feed_dict=feed_dict)\n",
    "        if (step % 500 == 0):\n",
    "            print('Minibatch loss at step %d: %f' % (step, l))\n",
    "            print('Minibatch accuracy: %.1f%%' % accuracy(predictions, batch_labels))\n",
    "            print('Validation accuracy: %.1f%%' % accuracy(\n",
    "                valid_prediction.eval(), valid_labels))\n",
    "    print('Test accuracy: %.1f%%' % accuracy(test_prediction.eval(), test_labels))"
   ]
  },
  {
   "cell_type": "markdown",
   "metadata": {
    "colab_type": "text",
    "id": "-b1hTz3VWZjw"
   },
   "source": [
    "---\n",
    "Problem 4\n",
    "---------\n",
    "\n",
    "Try to get the best performance you can using a multi-layer model! The best reported test accuracy using a deep network is [97.1%](http://yaroslavvb.blogspot.com/2011/09/notmnist-dataset.html?showComment=1391023266211#c8758720086795711595).\n",
    "\n",
    "One avenue you can explore is to add multiple layers.\n",
    "\n",
    "Another one is to use learning rate decay:\n",
    "\n",
    "    global_step = tf.Variable(0)  # count the number of steps taken.\n",
    "    learning_rate = tf.train.exponential_decay(0.5, global_step, ...)\n",
    "    optimizer = tf.train.GradientDescentOptimizer(learning_rate).minimize(loss, global_step=global_step)\n",
    " \n",
    " ---\n"
   ]
  },
  {
   "cell_type": "code",
   "execution_count": 19,
   "metadata": {
    "scrolled": false
   },
   "outputs": [
    {
     "name": "stdout",
     "output_type": "stream",
     "text": [
      "Inited\n",
      "Minibatch loss at step 0: 3.978385\n",
      "Minibatch accuracy: 10.2%\n",
      "Validation accuracy: 12.4%\n",
      "Minibatch loss at step 500: 0.599034\n",
      "Minibatch accuracy: 84.4%\n",
      "Validation accuracy: 81.9%\n",
      "Minibatch loss at step 1000: 0.715771\n",
      "Minibatch accuracy: 79.7%\n",
      "Validation accuracy: 83.3%\n",
      "Minibatch loss at step 1500: 0.471852\n",
      "Minibatch accuracy: 85.2%\n",
      "Validation accuracy: 83.9%\n",
      "Minibatch loss at step 2000: 0.474113\n",
      "Minibatch accuracy: 92.2%\n",
      "Validation accuracy: 84.4%\n",
      "Minibatch loss at step 2500: 0.526393\n",
      "Minibatch accuracy: 84.4%\n",
      "Validation accuracy: 85.1%\n",
      "Minibatch loss at step 3000: 0.618001\n",
      "Minibatch accuracy: 83.6%\n",
      "Validation accuracy: 85.2%\n",
      "Test accuracy: 91.9%\n"
     ]
    }
   ],
   "source": [
    "# same parameters, try 2 hidden layers\n",
    "hidden_nodes1 = 1024\n",
    "hidden_nodes2 = 300\n",
    "hidden_nodes3 = 50\n",
    "batch_size = 128\n",
    "keep_prob = 0.95\n",
    "\n",
    "graph = tf.Graph()\n",
    "with graph.as_default():\n",
    "    tf_train_dataset = tf.placeholder(tf.float32, \n",
    "                                     shape = (batch_size, image_size*image_size))\n",
    "    tf_train_labels = tf.placeholder(tf.float32, shape = (batch_size, num_labels))\n",
    "    tf_valid_dataset = tf.constant(valid_dataset)\n",
    "    tf_test_dataset = tf.constant(test_dataset)\n",
    "    \n",
    "    weights1 = tf.Variable(tf.truncated_normal([image_size*image_size, hidden_nodes1], stddev=0.1))\n",
    "    bias1 = tf.Variable(tf.zeros([hidden_nodes1]))\n",
    "    \n",
    "    weights2 = tf.Variable(tf.truncated_normal([hidden_nodes1, hidden_nodes2], stddev=0.1))\n",
    "    bias2 = tf.Variable(tf.zeros([hidden_nodes2]))\n",
    "    \n",
    "    weights3 = tf.Variable(tf.truncated_normal([hidden_nodes2, hidden_nodes3], stddev=0.1))\n",
    "    bias3 = tf.Variable(tf.zeros([hidden_nodes3]))\n",
    "    \n",
    "    weights4 = tf.Variable(tf.truncated_normal([hidden_nodes3, num_labels], stddev=0.1))\n",
    "    bias4 = tf.Variable(tf.zeros([num_labels]))\n",
    "    \n",
    "    epsilon = tf.constant(value=0.0001,shape=[num_labels])\n",
    "    \n",
    "    def get_output_with_hidden_levels(input_set, drop = False):\n",
    "        hidden_output1 = tf.nn.relu(tf.matmul(input_set, weights1)) + bias1\n",
    "        if drop:\n",
    "            hidden_output1 = tf.nn.dropout(hidden_output1, keep_prob=0.5)\n",
    "        hidden_output2 = tf.nn.relu(tf.matmul(hidden_output1, weights2)) + bias2\n",
    "        if drop:\n",
    "            hidden_output2 = tf.nn.dropout(hidden_output2, keep_prob=0.7)\n",
    "        hidden_output3 = tf.nn.relu(tf.matmul(hidden_output2, weights3)) + bias3\n",
    "        if drop:\n",
    "            hidden_output3 = tf.nn.dropout(hidden_output3, keep_prob=0.9)\n",
    "        logits = tf.matmul(hidden_output3, weights4) + bias4\n",
    "        \n",
    "        return logits\n",
    "    \n",
    "    logits = get_output_with_hidden_levels(tf_train_dataset, drop = True)\n",
    "    loss = tf.reduce_mean(\n",
    "      tf.nn.softmax_cross_entropy_with_logits(labels = tf_train_labels, logits = logits))\n",
    "    \n",
    "    global_step = tf.Variable(0)  # count the number of steps taken.\n",
    "    learning_rate = tf.train.exponential_decay(0.001, global_step, 1000, 1)\n",
    "    optimizer = tf.train.GradientDescentOptimizer(0.1).minimize(loss, \n",
    "                                                            global_step=global_step)\n",
    "    \n",
    "    train_prediction = tf.nn.softmax(get_output_with_hidden_levels(tf_train_dataset))\n",
    "    valid_prediction = tf.nn.softmax(get_output_with_hidden_levels(tf_valid_dataset))\n",
    "    test_prediction = tf.nn.softmax(get_output_with_hidden_levels(tf_test_dataset))\n",
    "    \n",
    "num_steps = 3001\n",
    "\n",
    "with tf.Session(graph=graph) as session:\n",
    "    tf.global_variables_initializer().run()\n",
    "    print('Inited')\n",
    "    for step in xrange(num_steps):\n",
    "        offset = (step*batch_size) % (train_labels.shape[0] - batch_size)\n",
    "        batch_data = train_dataset[offset:(offset+batch_size), :]\n",
    "        batch_labels = train_labels[offset:(offset+batch_size), :]\n",
    "        feed_dict = {tf_train_dataset: batch_data, tf_train_labels: batch_labels}\n",
    "        _, l, predictions = session.run(\n",
    "            [optimizer, loss, train_prediction], feed_dict=feed_dict)\n",
    "        if (step % 500 == 0):\n",
    "            print('Minibatch loss at step %d: %f' % (step, l))\n",
    "            print('Minibatch accuracy: %.1f%%' % accuracy(predictions, batch_labels))\n",
    "            print('Validation accuracy: %.1f%%' % accuracy(\n",
    "                valid_prediction.eval(), valid_labels))\n",
    "    print('Test accuracy: %.1f%%' % accuracy(test_prediction.eval(), test_labels))"
   ]
  },
  {
   "cell_type": "code",
   "execution_count": null,
   "metadata": {
    "collapsed": true
   },
   "outputs": [],
   "source": []
  },
  {
   "cell_type": "code",
   "execution_count": null,
   "metadata": {
    "collapsed": true
   },
   "outputs": [],
   "source": []
  }
 ],
 "metadata": {
  "anaconda-cloud": {},
  "colab": {
   "default_view": {},
   "name": "3_regularization.ipynb",
   "provenance": [],
   "version": "0.3.2",
   "views": {}
  },
  "kernelspec": {
   "display_name": "Python [default]",
   "language": "python",
   "name": "python2"
  },
  "language_info": {
   "codemirror_mode": {
    "name": "ipython",
    "version": 2
   },
   "file_extension": ".py",
   "mimetype": "text/x-python",
   "name": "python",
   "nbconvert_exporter": "python",
   "pygments_lexer": "ipython2",
   "version": "2.7.12"
  }
 },
 "nbformat": 4,
 "nbformat_minor": 1
}
